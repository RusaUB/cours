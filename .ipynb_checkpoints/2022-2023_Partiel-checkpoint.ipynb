{
 "cells": [
  {
   "cell_type": "code",
   "execution_count": 1,
   "id": "1d040e1c",
   "metadata": {},
   "outputs": [],
   "source": [
    "import math"
   ]
  },
  {
   "cell_type": "markdown",
   "id": "5704cc20",
   "metadata": {},
   "source": [
    "## Question 15\n",
    "Determine the value of the semi-major axis in km : "
   ]
  },
  {
   "cell_type": "markdown",
   "id": "cb044297",
   "metadata": {},
   "source": [
    "$$z_{A} = r_{A} - R_{terre}$$\n",
    "$$z_{P} = r_{P} - R_{terre}$$\n",
    "\n",
    "$$\\equiv z_{A} = a(1+e) - R_{terre}$$\n",
    "$$\\equiv a(1+e) = - R_{terre} - z_{A}$$\n",
    "$$\\equiv a = -( \\frac{1}{(1+e)} (- R_{terre} - z_{A}) )$$"
   ]
  },
  {
   "cell_type": "code",
   "execution_count": 2,
   "id": "e10b95a3",
   "metadata": {},
   "outputs": [],
   "source": [
    "z_a = 151455.47 #km\n",
    "z_p = 11256.53 #km\n",
    "e = 0.7990\n",
    "i = 79.20\n",
    "la = 0\n",
    "L0 = -51.6\n",
    "w = - 150\n",
    "rayon_terrestre = 6378\n",
    "mu = 398600"
   ]
  },
  {
   "cell_type": "code",
   "execution_count": 3,
   "id": "6721fc12",
   "metadata": {},
   "outputs": [
    {
     "data": {
      "text/plain": [
       "87734.00222345749"
      ]
     },
     "execution_count": 3,
     "metadata": {},
     "output_type": "execute_result"
    }
   ],
   "source": [
    "a = - (1/(1+e)*(-rayon_terrestre-z_a))\n",
    "a"
   ]
  },
  {
   "cell_type": "markdown",
   "id": "7fc1a027",
   "metadata": {},
   "source": [
    "## Question 16\n",
    "Determine the radius of periapsis $r_{p}$ in km :\n",
    "$$r_{P} = a(1-e)$$"
   ]
  },
  {
   "cell_type": "code",
   "execution_count": 4,
   "id": "ca947793",
   "metadata": {},
   "outputs": [
    {
     "data": {
      "text/plain": [
       "17634.53444691495"
      ]
     },
     "execution_count": 4,
     "metadata": {},
     "output_type": "execute_result"
    }
   ],
   "source": [
    "r_p = a*(1-e)\n",
    "r_p"
   ]
  },
  {
   "cell_type": "markdown",
   "id": "cd48d7e2",
   "metadata": {},
   "source": [
    "## Question 17\n",
    "Determine the radius of apoapsis $r_{A}$ in km :\n",
    "$$r_{P} = a(1+e)$$"
   ]
  },
  {
   "cell_type": "code",
   "execution_count": 5,
   "id": "7baa00dc",
   "metadata": {},
   "outputs": [
    {
     "data": {
      "text/plain": [
       "157833.47"
      ]
     },
     "execution_count": 5,
     "metadata": {},
     "output_type": "execute_result"
    }
   ],
   "source": [
    "r_a = a*(1+e)\n",
    "r_a"
   ]
  },
  {
   "cell_type": "markdown",
   "id": "7d3e66db",
   "metadata": {},
   "source": [
    "## Question 18\n",
    "Determine the orbital period T in secondes :\n",
    "\n",
    "$$T = 2 \\pi \\sqrt{\\frac{a^3}{\\mu}}$$ "
   ]
  },
  {
   "cell_type": "code",
   "execution_count": 6,
   "id": "1b2e19b9",
   "metadata": {},
   "outputs": [
    {
     "data": {
      "text/plain": [
       "258620.61085459465"
      ]
     },
     "execution_count": 6,
     "metadata": {},
     "output_type": "execute_result"
    }
   ],
   "source": [
    "T = 2*math.pi*math.sqrt(a**3/mu)\n",
    "T"
   ]
  },
  {
   "cell_type": "markdown",
   "id": "fb388b44",
   "metadata": {},
   "source": [
    "## Question 19\n",
    "Determine the velocity at periapsis $v_{P}$ in km/s :\n",
    "\n",
    "Velocities at apoapsis and periapsis, $V_{A}$ and $V_{P}$ \n",
    "\n",
    "Nous avons,\n",
    "\n",
    "$$r_{A}V_{A} = r_{P}V_{P}$$\n",
    "et\n",
    "\n",
    "$$W = \\frac{V^2}{2} - \\frac{\\mu}{r}=-\\frac{\\mu}{2a}$$\n",
    "\n",
    "$$\\equiv \\frac{V_{P}^2}{2} - \\frac{\\mu}{r_{P}}=-\\frac{\\mu}{2a}$$\n",
    "\n",
    "$$\\equiv \\frac{V_{P}^2}{2} = \\frac{\\mu}{r_{P}}-\\frac{\\mu}{2a}$$\n",
    "\n",
    "$$\\equiv V_{P} = \\sqrt{\\frac{2\\mu}{r_{P}}-\\frac{\\mu}{a}}$$\n"
   ]
  },
  {
   "cell_type": "code",
   "execution_count": 7,
   "id": "404f16e6",
   "metadata": {},
   "outputs": [
    {
     "name": "stdout",
     "output_type": "stream",
     "text": [
      "Vitesse au periapsis: 6.38 km/s\n"
     ]
    }
   ],
   "source": [
    "V_P = (((2*mu)/r_p) - (mu/a))**0.5\n",
    "V_A = (r_p*V_P)/r_a \n",
    "\n",
    "print(\"Vitesse au periapsis:\", round(V_P,2), \"km/s\")"
   ]
  },
  {
   "cell_type": "markdown",
   "id": "c6348fdb",
   "metadata": {},
   "source": [
    "## Question 20\n",
    "Determine the velocity at apoapsis $v_{A}$ in km/s :\n",
    "\n",
    "$$V_{A}=\\frac{r_{P}V_{P}}{r_A}$$"
   ]
  },
  {
   "cell_type": "code",
   "execution_count": 8,
   "id": "d456ea77",
   "metadata": {},
   "outputs": [
    {
     "name": "stdout",
     "output_type": "stream",
     "text": [
      "Vitesse à l'apoapsis: 0.71 km/s\n"
     ]
    }
   ],
   "source": [
    "V_A = (r_p*V_P)/r_a #0.95\n",
    "\n",
    "print(\"Vitesse à l'apoapsis:\", round(V_A,2), \"km/s\")"
   ]
  },
  {
   "cell_type": "markdown",
   "id": "881f1e0b",
   "metadata": {},
   "source": [
    "## Question 21\n",
    "The passing time at periapsis is a constant of the problem, determined by assuming that the time reference is set\n",
    "when the satellite passes at the ascending node. Determine the value of the passing time at periapsis $t_{P}$ in\n",
    "seconds\n",
    "\n",
    "\n",
    "**$v < -2\\pi + v_c$ donc faut ajouter $-2\\pi+$ dans l'equation de t-tp** \n",
    "\n",
    "$$ t_p = - \\sqrt{\\frac{a^3}{\\mu}}[-2\\pi+sin^{-1}(\\frac{\\sqrt{1-e^2}sin(v)}{1+ecos(v)})-e\\frac{\\sqrt{1-e^2}sin(v)}{1+ecos(v)} ]$$\n"
   ]
  },
  {
   "cell_type": "code",
   "execution_count": 9,
   "id": "d87b985f",
   "metadata": {},
   "outputs": [
    {
     "name": "stdout",
     "output_type": "stream",
     "text": [
      "Temps periapsis => 261051.38982964205\n"
     ]
    }
   ],
   "source": [
    "v = -w\n",
    "\n",
    "t_p =  -math.sqrt(a**3 / mu) * (-2*math.pi + math.asin(math.sqrt(1 - e**2) * math.sin(v) / (1 + e * math.cos(v))) - e * math.sqrt(1 - e**2) * math.sin(v) / (1 + e * math.cos(v)))\n",
    "print(\"Temps periapsis =>\", t_p)"
   ]
  },
  {
   "cell_type": "markdown",
   "id": "d13c7952",
   "metadata": {},
   "source": [
    "## Question 22\n",
    "What is the value of the passing time for the true anomaly -200°, cell a*, in seconds ?\n",
    "\n",
    "| v (°) | t (sec.) | la (°) | L0 (°) | LS (°) |\n",
    "|-------|----------|--------|--------|--------|\n",
    "| -200  | a*       | 9.4    | h*     | k*     |\n",
    "| -160  | b*       | 46.1   | i*     | 44.0   |\n",
    "| -120  | -56265.2 | e*     | -270.0 | -86.5  |\n",
    "| +40   | c*       | f*     | -137.1 | l*     |\n",
    "| +80   | -36175.7 | g*     | -49.2  | 56.6   |\n",
    "| +160  | 20622.4  | 9.4    | 3.4    | m*     |\n",
    "| +200  | d*       | 46.1   | j*     | n*     |"
   ]
  },
  {
   "cell_type": "code",
   "execution_count": 10,
   "id": "45bd07cf",
   "metadata": {},
   "outputs": [
    {
     "data": {
      "text/plain": [
       "2.4964267251100987"
      ]
     },
     "execution_count": 10,
     "metadata": {},
     "output_type": "execute_result"
    }
   ],
   "source": [
    "v_c = math.acos(-e)\n",
    "v_c"
   ]
  },
  {
   "cell_type": "code",
   "execution_count": 14,
   "id": "6f9b01f7",
   "metadata": {},
   "outputs": [
    {
     "name": "stdout",
     "output_type": "stream",
     "text": [
      "Temps periapsis => 261051.38982964205\n"
     ]
    }
   ],
   "source": [
    "def calculate_time_(v):\n",
    "    term1 = -math.sqrt(a**3 / mu)\n",
    "    term2 = math.asin(math.sqrt(1 - e**2) * math.sin(v) / (1 + e * math.cos(v)))\n",
    "    term3 = e * math.sqrt(1 - e**2) * math.sin(v) / (1 + e * math.cos(v))\n",
    "    \n",
    "    if -v_c <= math.radians(v) <= v_c:\n",
    "        print(f'{-v_c} <= {math.radians(v)} <= {v_c}')\n",
    "        t_p = term1 * (term2 - term3)\n",
    "    \n",
    "    if v_c < math.radians(v) < 2*math.pi - v_c:\n",
    "        print(f'{v_c} < {math.radians(v)} < {2*math.pi - v_c}')\n",
    "        t_p = term1 * (math.pi - term2 - term3)\n",
    "    \n",
    "    if math.radians(v) > 2*math.pi - v_c:\n",
    "        print(f'{math.radians(v)} > {2*math.pi - v_c}')\n",
    "        t_p = term1 * (2*math.pi + term2 - term3)\n",
    "    \n",
    "    if -2*math.pi + v_c < math.radians(v) < - v_c:\n",
    "        print(f'{-2*math.pi + v_c} < {math.radians(v)} < {- v_c}')\n",
    "        t_p = term1 * (-math.pi - term2 - term3)\n",
    "    \n",
    "    if math.radians(v) < -2*math.pi + v_c:\n",
    "        print(f'{math.radians(v)} < {-2*math.pi + v_c}')\n",
    "        t_p = term1 * (-2*math.pi + term2 - term3)\n",
    "    \n",
    "    return t_p\n",
    "\n",
    "def calculate_time_at_periapsis(v):\n",
    "    term1 = -math.sqrt(a**3 / mu)\n",
    "    term2 = math.asin(math.sqrt(1 - e**2) * math.sin(v) / (1 + e * math.cos(v)))\n",
    "    term3 = e * math.sqrt(1 - e**2) * math.sin(v) / (1 + e * math.cos(v))\n",
    "\n",
    "    t_p = term1 * (-2 * math.pi + term2 - term3)\n",
    "    return t_p\n",
    "\n",
    "print(\"Temps periapsis =>\", t_p)"
   ]
  },
  {
   "cell_type": "markdown",
   "id": "84fe41d1",
   "metadata": {},
   "source": [
    "\n",
    "| v (°) | t (sec.) | la (°) | L0 (°) | LS (°) |\n",
    "|-------|----------|--------|--------|--------|\n",
    "| -200  | a*       | 9.4    | h*     | k*     |\n",
    "| -160  | b*       | 46.1   | i*     | 44.0   |\n",
    "| -120  | -56265.2 | e*     | -270.0 | -86.5  |\n",
    "| +40   | c*       | f*     | -137.1 | l*     |\n",
    "| +80   | -36175.7 | g*     | -49.2  | 56.6   |\n",
    "| +160  | 20622.4  | 9.4    | 3.4    | m*     |\n",
    "| +200  | d*       | 46.1   | j*     | n*     |"
   ]
  },
  {
   "cell_type": "code",
   "execution_count": null,
   "id": "aec311f4",
   "metadata": {},
   "outputs": [],
   "source": []
  }
 ],
 "metadata": {
  "kernelspec": {
   "display_name": "Python 3 (ipykernel)",
   "language": "python",
   "name": "python3"
  },
  "language_info": {
   "codemirror_mode": {
    "name": "ipython",
    "version": 3
   },
   "file_extension": ".py",
   "mimetype": "text/x-python",
   "name": "python",
   "nbconvert_exporter": "python",
   "pygments_lexer": "ipython3",
   "version": "3.10.5"
  }
 },
 "nbformat": 4,
 "nbformat_minor": 5
}
