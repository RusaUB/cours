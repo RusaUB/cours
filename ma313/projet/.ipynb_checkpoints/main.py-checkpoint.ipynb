{
 "cells": [
  {
   "cell_type": "markdown",
   "id": "31457098",
   "metadata": {},
   "source": [
    "## 1 Approximation de fonctions par des polynômes"
   ]
  },
  {
   "cell_type": "markdown",
   "id": "84afc3ed",
   "metadata": {},
   "source": [
    "### 1 \n",
    "N représente le nombre de points de données disponibles à partir de la fonction. Pour ajuster un polynôme de degré d, il est nécessaire d'avoir suffisamment de points (N) pour que le polynôme puisse être correctement ajusté. \n",
    "Pour un ajustement précis, il est nécessaire d'avoir un nombre de points N plus grand que le nombre de degrés de liberté d du polynôme. Sinon, le système peut être surcontraint ou instable. Plus il y a de points de données, plus le polynôme peut capturer les variations de la fonction."
   ]
  },
  {
   "cell_type": "markdown",
   "id": "72b4746f",
   "metadata": {},
   "source": [
    "### 2\n",
    "Pour un polynôme de degré d, le problème aux moindres carrés consiste à trouver les coefficients $c_0,c_1,...,c_d$ du polynôme $P(x) = c_0 + c_1x + c_2x + ... + c_dx^d$ tels que la somme des carrés des différences entre $P(x_i)$ et les valeurs observées $y_i$ soit minimale pour N points de données $(x_1,y_1),(x_2,y_2),...,(x_N,y_N)$\n",
    "\n",
    "$$\n",
    "\\begin{bmatrix}\n",
    "    1 & x_1 & x_1^2 & \\cdots & x_1^d \\\\\n",
    "    1 & x_2 & x_2^2 & \\cdots & x_2^d \\\\\n",
    "    \\vdots & \\vdots & \\vdots & \\ddots & \\vdots \\\\\n",
    "    1 & x_N & x_N^2 & \\cdots & x_N^d \\\\\n",
    "\\end{bmatrix}\n",
    "\\begin{bmatrix}\n",
    "    c_0 \\\\\n",
    "    c_1 \\\\\n",
    "    \\vdots \\\\\n",
    "    c_d \\\\\n",
    "\\end{bmatrix}\n",
    "=\n",
    "\\begin{bmatrix}\n",
    "    y_1 \\\\\n",
    "    y_2 \\\\\n",
    "    \\vdots \\\\\n",
    "    y_N \\\\\n",
    "\\end{bmatrix}\n",
    "$$\n"
   ]
  },
  {
   "cell_type": "code",
   "execution_count": null,
   "id": "c20b0f0f",
   "metadata": {},
   "outputs": [],
   "source": []
  }
 ],
 "metadata": {
  "kernelspec": {
   "display_name": "Python 3 (ipykernel)",
   "language": "python",
   "name": "python3"
  },
  "language_info": {
   "codemirror_mode": {
    "name": "ipython",
    "version": 3
   },
   "file_extension": ".py",
   "mimetype": "text/x-python",
   "name": "python",
   "nbconvert_exporter": "python",
   "pygments_lexer": "ipython3",
   "version": "3.10.5"
  }
 },
 "nbformat": 4,
 "nbformat_minor": 5
}
