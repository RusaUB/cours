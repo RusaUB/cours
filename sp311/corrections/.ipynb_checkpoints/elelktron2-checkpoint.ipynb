{
 "cells": [
  {
   "cell_type": "code",
   "execution_count": 1,
   "id": "3c56d3ec",
   "metadata": {},
   "outputs": [],
   "source": [
    "import math\n",
    "a = 40708 # (km)\n",
    "e = 0.8320 \n",
    "i = 61.00 # (degre)\n",
    "rayon_terrestre = 6378 # (km)\n",
    "mu = 398600 #constante de gravitation réduite GM (km^3/s^2)\n",
    "w = 270\n",
    "alpha = 360 / 86164\n",
    "L_omega = 120"
   ]
  },
  {
   "cell_type": "markdown",
   "id": "da703383",
   "metadata": {},
   "source": [
    "## FONCTION NÉCESSAIRES"
   ]
  },
  {
   "cell_type": "code",
   "execution_count": 2,
   "id": "93e3053e",
   "metadata": {},
   "outputs": [],
   "source": [
    "def calculate_time(v, periapsis=False):\n",
    "    term1 = -math.sqrt(a**3 / mu) if periapsis else math.sqrt(a**3 / mu)\n",
    "    term2 = math.asin(math.sqrt(1 - e**2) * math.sin(math.radians(v)) / (1 + e * math.cos(math.radians(v))))\n",
    "    term3 = e * math.sqrt(1 - e**2) * math.sin(math.radians(v)) / (1 + e * math.cos(math.radians(v)))\n",
    "    \n",
    "    v_rad = math.radians(v)\n",
    "\n",
    "    if -v_c <= v_rad <= v_c:\n",
    "        t_p = term1 * (term2 - term3)\n",
    "    \n",
    "    elif v_c < v_rad < 2*math.pi - v_c:\n",
    "        t_p = term1 * (math.pi - term2 - term3)\n",
    "    \n",
    "    elif v_rad > 2*math.pi - v_c:\n",
    "        t_p = term1 * (2*math.pi + term2 - term3)\n",
    "    \n",
    "    elif -2*math.pi + v_c < v_rad < -v_c:\n",
    "        t_p = term1 * (-math.pi - term2 - term3)\n",
    "    \n",
    "    elif v_rad < -2*math.pi + v_c:\n",
    "        t_p = term1 * (-2*math.pi + term2 - term3)\n",
    "    \n",
    "    return t_p\n",
    "\n",
    "\n",
    "def calculate_la(v):\n",
    "    v_rad = math.radians(v)\n",
    "    w_rad = math.radians(w)\n",
    "    i_rad = math.radians(i)\n",
    "\n",
    "    la = math.degrees(math.asin(math.sin(w_rad + v_rad) * math.sin(i_rad)))\n",
    "    return la\n",
    "\n",
    "def calculate_L0(la, i, w, v):\n",
    "    la_rad = math.radians(la)\n",
    "    i_rad = math.radians(i)\n",
    "    w_rad = math.radians(w)\n",
    "    v_rad = math.radians(v)\n",
    "    \n",
    "    tan_value = math.tan(la_rad) / math.tan(i_rad)\n",
    "\n",
    "    if -1 <= tan_value <= 1:\n",
    "        L0 = math.degrees(math.asin(tan_value))\n",
    "    else:\n",
    "        if tan_value > 1:\n",
    "            tan_value = 1\n",
    "        elif tan_value < -1:\n",
    "            tan_value = -1\n",
    "        \n",
    "        L0 = math.degrees(math.asin(tan_value))\n",
    "\n",
    "\n",
    "    if -w_rad - math.radians(90) <= v_rad <= -w_rad + math.radians(90):\n",
    "        pass  \n",
    "    elif -w_rad - math.radians(450) <= v_rad <= -w_rad - math.radians(270):\n",
    "        L0 = -360 + L0\n",
    "    elif -w_rad - math.radians(270) <= v_rad <= -w_rad - math.radians(90):\n",
    "        L0 = -180 - L0\n",
    "    elif -w_rad + math.radians(90) <= v_rad <= -w_rad + math.radians(270):\n",
    "        L0 = 180 - L0\n",
    "    elif -w_rad + math.radians(270) <= v_rad <= -w_rad + math.radians(450):\n",
    "        L0 = 360 + L0\n",
    "    elif -w_rad + math.radians(450) <= v_rad <= -w_rad + math.radians(630):\n",
    "        L0 = 540 - L0\n",
    "    else:\n",
    "        L0 = None\n",
    "    \n",
    "    return L0"
   ]
  },
  {
   "cell_type": "markdown",
   "id": "da8e6c10",
   "metadata": {},
   "source": [
    "## Question 1\n",
    "\n",
    "Apoapsis and periapsis altitudes, $z_{A}$ and $z_{P}$ \n",
    "\n",
    "$$r_{A} = a(1+e)$$\n",
    "$$r_{P} = a(1-e)$$"
   ]
  },
  {
   "cell_type": "code",
   "execution_count": 3,
   "id": "dc7b39e5",
   "metadata": {},
   "outputs": [],
   "source": [
    "r_A = a*(1+e) #74577.056 km\n",
    "r_P = a*(1-e) #6838.940"
   ]
  },
  {
   "cell_type": "markdown",
   "id": "0adf8346",
   "metadata": {},
   "source": [
    "Radius, $r_{A}$ et $r_{P}$  \n",
    "\n",
    "$$z_{A} = r_{A} - R_{terre}$$\n",
    "$$z_{P} = r_{P} - R_{terre}$$"
   ]
  },
  {
   "cell_type": "code",
   "execution_count": 4,
   "id": "0e2ec5d2",
   "metadata": {},
   "outputs": [],
   "source": [
    "z_A = r_A - rayon_terrestre #68199.05 km\n",
    "z_P = r_P - rayon_terrestre #460.94 km"
   ]
  },
  {
   "cell_type": "markdown",
   "id": "908d6b50",
   "metadata": {},
   "source": [
    "Orbital period T in seconds, and in *sexagesimal form (hours-min-sec)*\n",
    "\n",
    "$$T = 2 \\pi \\sqrt{\\frac{a^3}{\\mu}} $$ "
   ]
  },
  {
   "cell_type": "code",
   "execution_count": 5,
   "id": "1ec65d0f",
   "metadata": {},
   "outputs": [],
   "source": [
    "T = 2*math.pi*(a**3/mu)**0.5 #81739.29 sec\n",
    "T_sexagesimal = T/3600 #22 hours"
   ]
  },
  {
   "cell_type": "markdown",
   "id": "a5b4bd98",
   "metadata": {},
   "source": [
    "Mean motion in rad/s and in rd/day \n",
    "\n",
    "$$\\omega_{mean} = \\frac{T}{2\\pi}$$"
   ]
  },
  {
   "cell_type": "code",
   "execution_count": 6,
   "id": "d2e6fc85",
   "metadata": {},
   "outputs": [],
   "source": [
    "mean_motion = T/(2*math.pi) #13009.21 rad/s"
   ]
  },
  {
   "cell_type": "markdown",
   "id": "76640572",
   "metadata": {},
   "source": [
    "Velocities at apoapsis and periapsis, $V_{A}$ and $V_{P}$ \n",
    "\n",
    "Nous avons,\n",
    "\n",
    "$$r_{A}V_{A} = r_{P}V_{P}$$\n",
    "et\n",
    "\n",
    "$$W = \\frac{V^2}{2} - \\frac{\\mu}{r}=-\\frac{\\mu}{2a}$$\n",
    "\n",
    "$$\\equiv \\frac{V_{P}^2}{2} - \\frac{\\mu}{r_{P}}=-\\frac{\\mu}{2a}$$\n",
    "\n",
    "$$\\equiv \\frac{V_{P}^2}{2} = \\frac{\\mu}{r_{P}}-\\frac{\\mu}{2a}$$\n",
    "\n",
    "$$\\equiv V_{P} = \\sqrt{\\frac{2\\mu}{r_{P}}-\\frac{\\mu}{a}}$$\n",
    "\n",
    "et \n",
    "\n",
    "$$V_{A}=\\frac{r_{P}V_{P}}{r_A}$$"
   ]
  },
  {
   "cell_type": "code",
   "execution_count": 7,
   "id": "a4bab31b",
   "metadata": {},
   "outputs": [
    {
     "name": "stdout",
     "output_type": "stream",
     "text": [
      "Vitesse au periapsis: 10.33 km/s\n",
      "Vitesse à l'apoapsis: 0.95 km/s\n"
     ]
    }
   ],
   "source": [
    "V_P = (((2*mu)/r_P) - (mu/a))**0.5 #10.33 km/s\n",
    "V_A = (r_P*V_P)/r_A #0.95\n",
    "\n",
    "print(\"Vitesse au periapsis:\", round(V_P,2), \"km/s\")\n",
    "print(\"Vitesse à l'apoapsis:\", round(V_A,2), \"km/s\")"
   ]
  },
  {
   "cell_type": "markdown",
   "id": "b6b4c4e6",
   "metadata": {},
   "source": [
    "Velocity Ratio \n",
    "\n",
    "$$\\frac{V_P}{V_A}$$\n",
    "\n",
    "**Ratio de vitesse égal à 1 :**\n",
    "Lorsque le ratio de vitesse entre l'apoapsis et le periapsis est égal à 1, les vitesses à ces points sont identiques. Cela se produit dans le cas d'une orbite circulaire où l'apoapsis et le periapsis coïncident, donc la vitesse reste constante sur l'ensemble de l'orbite.\n",
    "\n",
    "**Ratio de vitesse supérieur à 1 :**\n",
    "Si le ratio est supérieur à 1, cela signifie que la vitesse à l'apoapsis est plus grande que la vitesse au periapsis. Dans les orbites elliptiques, l'objet spatial se déplace plus rapidement à l'apoapsis, le point le plus éloigné de l'objet central (comme la Terre), et plus lentement au periapsis, le point le plus proche.\n",
    "\n",
    "**Ratio de vitesse inférieur à 1 :**\n",
    "Si le ratio est inférieur à 1, cela indique que la vitesse au periapsis est plus grande que la vitesse à l'apoapsis. Dans ce cas, l'objet spatial se déplace plus rapidement au periapsis et plus lentement à l'apoapsis."
   ]
  },
  {
   "cell_type": "code",
   "execution_count": 8,
   "id": "5c35d3d1",
   "metadata": {},
   "outputs": [],
   "source": [
    "ratio = V_P/V_A #10.90 > 1"
   ]
  },
  {
   "cell_type": "markdown",
   "id": "a13dc74e",
   "metadata": {},
   "source": [
    "## Question 2\n",
    "\n",
    "You will determine the ground track plot of this orbit. Coordinates of ascending node are following:   \n",
    "Latitude 0° by definition obviously and Longitude 120° East-positive "
   ]
  },
  {
   "cell_type": "code",
   "execution_count": 9,
   "id": "b25c55ff",
   "metadata": {},
   "outputs": [],
   "source": [
    "w = 270"
   ]
  },
  {
   "cell_type": "markdown",
   "id": "b9be5e8f",
   "metadata": {},
   "source": [
    "**Etape 1 : Determine the critical true anomaly**\n",
    "\n",
    "$$v_c = cos^{-1}(-e)$$"
   ]
  },
  {
   "cell_type": "code",
   "execution_count": 10,
   "id": "658f2a17",
   "metadata": {},
   "outputs": [],
   "source": [
    "v_c = math.acos(-e) #2.55 RAD !!!!!! "
   ]
  },
  {
   "cell_type": "markdown",
   "id": "03750da7",
   "metadata": {},
   "source": [
    "**Etape 2 :**\n",
    "\n",
    "CAR NOUS AVONS i = 61° < 90° : \n",
    "\n",
    "$$-v_c ≤ v ≤ v_c$$\n",
    "ratoation par $\\pi-$ :\n",
    "$$ v_c ≤ v ≤ 2\\pi - v_c$$ \n",
    "ratoation par $2\\pi+$ :\n",
    "$$2\\pi - v_c ≤ v ≤ 2\\pi + v_c$$ \n",
    "ratoation par $3\\pi-$ :\n",
    "$$2\\pi + v_c ≤ v ≤ 4\\pi - v_c$$ \n",
    "ratoation par $-2\\pi+$ :\n",
    "$$-2\\pi - v_c ≤ v ≤ -2\\pi + v_c$$ \n",
    "ratoation par $-\\pi-$ :\n",
    "$$-2\\pi + v_c ≤ v ≤ -v_c$$ \n",
    "\n",
    "\n",
    "$$v = -\\omega = -270° = -\\frac{3}{2}\\pi$$\n",
    "\n",
    "SI i > 90° : $-\\pi-$ => $-2\\pi+$ => $-3\\pi-$ => $3\\pi-$ => $2\\pi+$ => $\\pi-$ "
   ]
  },
  {
   "cell_type": "code",
   "execution_count": 11,
   "id": "79e765cc",
   "metadata": {},
   "outputs": [],
   "source": [
    "v = -1.5*math.pi"
   ]
  },
  {
   "cell_type": "markdown",
   "id": "396fe5c5",
   "metadata": {},
   "source": [
    "**Etape 3 : Calcul de tp**\n",
    "\n",
    "**$v < -2\\pi + v_c$ donc faut ajouter $-2\\pi+$ dans l'equation de t-tp** \n",
    "\n",
    "$$ t_p = - \\sqrt{\\frac{a^3}{\\mu}}[-2\\pi+sin^{-1}(\\frac{\\sqrt{1-e^2}sin(v)}{1+ecos(v)})-e\\frac{\\sqrt{1-e^2}sin(v)}{1+ecos(v)} ]$$\n"
   ]
  },
  {
   "cell_type": "code",
   "execution_count": 12,
   "id": "428ac979",
   "metadata": {},
   "outputs": [
    {
     "data": {
      "text/plain": [
       "80093.3668829082"
      ]
     },
     "execution_count": 12,
     "metadata": {},
     "output_type": "execute_result"
    }
   ],
   "source": [
    "tp = calculate_time(v=-w,periapsis=True)\n",
    "tp"
   ]
  },
  {
   "cell_type": "code",
   "execution_count": 13,
   "id": "1c99a920",
   "metadata": {},
   "outputs": [
    {
     "name": "stdout",
     "output_type": "stream",
     "text": [
      "Temps periapsis => 80093.3668829082\n"
     ]
    }
   ],
   "source": [
    "t_p =  -math.sqrt(a**3 / mu) * (-2*math.pi + math.asin(math.sqrt(1 - e**2) * math.sin(v) / (1 + e * math.cos(v))) - e * math.sqrt(1 - e**2) * math.sin(v) / (1 + e * math.cos(v)))\n",
    "print(\"Temps periapsis =>\", t_p)"
   ]
  },
  {
   "cell_type": "code",
   "execution_count": 14,
   "id": "0f922c08",
   "metadata": {},
   "outputs": [],
   "source": [
    "v_angles = [ i for i in (range(-210,210,30))] "
   ]
  },
  {
   "cell_type": "code",
   "execution_count": 15,
   "id": "6d99160e",
   "metadata": {},
   "outputs": [],
   "source": [
    "t = []\n",
    "\n",
    "for j in v_angles:\n",
    "    t.append( round(calculate_time(v=j) + tp,2) )\n",
    "\n",
    "\n",
    "\n",
    "La = []\n",
    "\n",
    "\n",
    "for index, v in enumerate(v_angles):\n",
    "    result_la = calculate_la(v)\n",
    "    La.append(round(result_la,2))\n",
    "\n",
    "\n",
    "L0 = [ ]\n",
    "\n",
    "for index , v in enumerate ( v_angles ) :\n",
    "    result_la = calculate_la ( v )\n",
    "    result_L0 = calculate_L0 ( result_la , i , w , v )\n",
    "    L0.append ( round(result_L0,2) )\n",
    "\n",
    "\n",
    "Ls = []\n",
    "\n",
    "for index,l in enumerate(L0) :\n",
    "    ls = L_omega + l - alpha * t[index]\n",
    "    Ls.append(round(ls,2))\n"
   ]
  },
  {
   "cell_type": "code",
   "execution_count": 16,
   "id": "b8eebe2a",
   "metadata": {},
   "outputs": [
    {
     "data": {
      "text/html": [
       "<div>\n",
       "<style scoped>\n",
       "    .dataframe tbody tr th:only-of-type {\n",
       "        vertical-align: middle;\n",
       "    }\n",
       "\n",
       "    .dataframe tbody tr th {\n",
       "        vertical-align: top;\n",
       "    }\n",
       "\n",
       "    .dataframe thead th {\n",
       "        text-align: right;\n",
       "    }\n",
       "</style>\n",
       "<table border=\"1\" class=\"dataframe\">\n",
       "  <thead>\n",
       "    <tr style=\"text-align: right;\">\n",
       "      <th>v_angles</th>\n",
       "      <th>-210.0</th>\n",
       "      <th>-180.0</th>\n",
       "      <th>-150.0</th>\n",
       "      <th>-120.0</th>\n",
       "      <th>-90.0</th>\n",
       "      <th>-60.0</th>\n",
       "      <th>-30.0</th>\n",
       "      <th>0.0</th>\n",
       "      <th>30.0</th>\n",
       "      <th>60.0</th>\n",
       "      <th>90.0</th>\n",
       "      <th>120.0</th>\n",
       "      <th>150.0</th>\n",
       "      <th>180.0</th>\n",
       "    </tr>\n",
       "  </thead>\n",
       "  <tbody>\n",
       "    <tr>\n",
       "      <th>times_at_periapsis</th>\n",
       "      <td>9633.58</td>\n",
       "      <td>39223.72</td>\n",
       "      <td>68813.86</td>\n",
       "      <td>76429.36</td>\n",
       "      <td>78447.44</td>\n",
       "      <td>79262.40</td>\n",
       "      <td>79731.81</td>\n",
       "      <td>80093.37</td>\n",
       "      <td>80454.92</td>\n",
       "      <td>80924.33</td>\n",
       "      <td>81739.29</td>\n",
       "      <td>83757.37</td>\n",
       "      <td>91372.87</td>\n",
       "      <td>120963.01</td>\n",
       "    </tr>\n",
       "    <tr>\n",
       "      <th>la_angles</th>\n",
       "      <td>49.24</td>\n",
       "      <td>61.00</td>\n",
       "      <td>49.24</td>\n",
       "      <td>25.93</td>\n",
       "      <td>0.00</td>\n",
       "      <td>-25.93</td>\n",
       "      <td>-49.24</td>\n",
       "      <td>-61.00</td>\n",
       "      <td>-49.24</td>\n",
       "      <td>-25.93</td>\n",
       "      <td>-0.00</td>\n",
       "      <td>25.93</td>\n",
       "      <td>49.24</td>\n",
       "      <td>61.00</td>\n",
       "    </tr>\n",
       "    <tr>\n",
       "      <th>l0_angles</th>\n",
       "      <td>40.02</td>\n",
       "      <td>90.00</td>\n",
       "      <td>139.98</td>\n",
       "      <td>164.36</td>\n",
       "      <td>180.00</td>\n",
       "      <td>195.64</td>\n",
       "      <td>220.02</td>\n",
       "      <td>270.00</td>\n",
       "      <td>319.98</td>\n",
       "      <td>344.36</td>\n",
       "      <td>360.00</td>\n",
       "      <td>375.64</td>\n",
       "      <td>400.02</td>\n",
       "      <td>450.00</td>\n",
       "    </tr>\n",
       "    <tr>\n",
       "      <th>Ls</th>\n",
       "      <td>119.77</td>\n",
       "      <td>46.12</td>\n",
       "      <td>-27.53</td>\n",
       "      <td>-34.97</td>\n",
       "      <td>-27.76</td>\n",
       "      <td>-15.52</td>\n",
       "      <td>6.89</td>\n",
       "      <td>55.36</td>\n",
       "      <td>103.83</td>\n",
       "      <td>126.25</td>\n",
       "      <td>138.49</td>\n",
       "      <td>145.70</td>\n",
       "      <td>138.26</td>\n",
       "      <td>64.61</td>\n",
       "    </tr>\n",
       "  </tbody>\n",
       "</table>\n",
       "</div>"
      ],
      "text/plain": [
       "v_angles             -210.0    -180.0    -150.0    -120.0    -90.0     -60.0   \\\n",
       "times_at_periapsis  9633.58  39223.72  68813.86  76429.36  78447.44  79262.40   \n",
       "la_angles             49.24     61.00     49.24     25.93      0.00    -25.93   \n",
       "l0_angles             40.02     90.00    139.98    164.36    180.00    195.64   \n",
       "Ls                   119.77     46.12    -27.53    -34.97    -27.76    -15.52   \n",
       "\n",
       "v_angles              -30.0      0.0       30.0      60.0      90.0   \\\n",
       "times_at_periapsis  79731.81  80093.37  80454.92  80924.33  81739.29   \n",
       "la_angles             -49.24    -61.00    -49.24    -25.93     -0.00   \n",
       "l0_angles             220.02    270.00    319.98    344.36    360.00   \n",
       "Ls                      6.89     55.36    103.83    126.25    138.49   \n",
       "\n",
       "v_angles               120.0     150.0      180.0  \n",
       "times_at_periapsis  83757.37  91372.87  120963.01  \n",
       "la_angles              25.93     49.24      61.00  \n",
       "l0_angles             375.64    400.02     450.00  \n",
       "Ls                    145.70    138.26      64.61  "
      ]
     },
     "execution_count": 16,
     "metadata": {},
     "output_type": "execute_result"
    }
   ],
   "source": [
    "import pandas as pd\n",
    "\n",
    "data = {\n",
    "    'v_angles': v_angles,\n",
    "    'times_at_periapsis': t,\n",
    "    'la_angles': La,\n",
    "    'l0_angles': L0,\n",
    "    'Ls' : Ls,\n",
    "}\n",
    "\n",
    "# Create a DataFrame\n",
    "df = pd.DataFrame(data)\n",
    "\n",
    "# Transpose the DataFrame\n",
    "df = df.T\n",
    "\n",
    "# Set the first row as the column headers\n",
    "df.columns = df.iloc[0]\n",
    "df = df[1:]\n",
    "\n",
    "df"
   ]
  }
 ],
 "metadata": {
  "kernelspec": {
   "display_name": "Python 3 (ipykernel)",
   "language": "python",
   "name": "python3"
  },
  "language_info": {
   "codemirror_mode": {
    "name": "ipython",
    "version": 3
   },
   "file_extension": ".py",
   "mimetype": "text/x-python",
   "name": "python",
   "nbconvert_exporter": "python",
   "pygments_lexer": "ipython3",
   "version": "3.10.5"
  }
 },
 "nbformat": 4,
 "nbformat_minor": 5
}
