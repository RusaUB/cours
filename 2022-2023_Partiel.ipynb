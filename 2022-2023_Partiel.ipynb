{
 "cells": [
  {
   "cell_type": "code",
   "execution_count": 1,
   "id": "1d040e1c",
   "metadata": {},
   "outputs": [],
   "source": [
    "import math"
   ]
  },
  {
   "cell_type": "markdown",
   "id": "5704cc20",
   "metadata": {},
   "source": [
    "## Question 15\n",
    "Determine the value of the semi-major axis in km : "
   ]
  },
  {
   "cell_type": "markdown",
   "id": "cb044297",
   "metadata": {},
   "source": [
    "$$z_{A} = r_{A} - R_{terre}$$\n",
    "$$z_{P} = r_{P} - R_{terre}$$\n",
    "\n",
    "$$\\equiv z_{A} = a(1+e) - R_{terre}$$\n",
    "$$\\equiv a(1+e) = - R_{terre} - z_{A}$$\n",
    "$$\\equiv a = -( \\frac{1}{(1+e)} (- R_{terre} - z_{A}) )$$"
   ]
  },
  {
   "cell_type": "code",
   "execution_count": 2,
   "id": "e10b95a3",
   "metadata": {},
   "outputs": [],
   "source": [
    "z_a = 151455.47 #km\n",
    "z_p = 11256.53 #km\n",
    "w = -150  # Assume the value of w in degrees\n",
    "i = 79.20  # Assume the value of i in degrees\n",
    "e = 0.7990\n",
    "la = 0\n",
    "L0 = -51.6\n",
    "rayon_terrestre = 6378\n",
    "mu = 398600"
   ]
  },
  {
   "cell_type": "code",
   "execution_count": 3,
   "id": "d1d52f3f",
   "metadata": {},
   "outputs": [],
   "source": [
    "def calculate_time(v, periapsis=False):\n",
    "    term1 = -math.sqrt(a**3 / mu) if periapsis else math.sqrt(a**3 / mu)\n",
    "    term2 = math.asin(math.sqrt(1 - e**2) * math.sin(math.radians(v)) / (1 + e * math.cos(math.radians(v))))\n",
    "    term3 = e * math.sqrt(1 - e**2) * math.sin(math.radians(v)) / (1 + e * math.cos(math.radians(v)))\n",
    "    \n",
    "    v_rad = math.radians(v)\n",
    "\n",
    "    if -v_c <= v_rad <= v_c:\n",
    "        print(f'{-v_c} <= {v_rad} <= {v_c}')\n",
    "        t_p = term1 * (term2 - term3)\n",
    "    \n",
    "    elif v_c < v_rad < 2*math.pi - v_c:\n",
    "        print(f'{v_c} < {v_rad} < {2*math.pi - v_c}')\n",
    "        t_p = term1 * (math.pi - term2 - term3)\n",
    "    \n",
    "    elif v_rad > 2*math.pi - v_c:\n",
    "        print(f'{v_rad} > {2*math.pi - v_c}')\n",
    "        t_p = term1 * (2*math.pi + term2 - term3)\n",
    "    \n",
    "    elif -2*math.pi + v_c < v_rad < -v_c:\n",
    "        print(f'{-2*math.pi + v_c} < {v_rad} < {-v_c}')\n",
    "        t_p = term1 * (-math.pi - term2 - term3)\n",
    "    \n",
    "    elif v_rad < -2*math.pi + v_c:\n",
    "        print(f'{v_rad} < {-2*math.pi + v_c}')\n",
    "        t_p = term1 * (-2*math.pi + term2 - term3)\n",
    "    \n",
    "    return t_p"
   ]
  },
  {
   "cell_type": "code",
   "execution_count": 4,
   "id": "6721fc12",
   "metadata": {},
   "outputs": [
    {
     "data": {
      "text/plain": [
       "87734.00222345749"
      ]
     },
     "execution_count": 4,
     "metadata": {},
     "output_type": "execute_result"
    }
   ],
   "source": [
    "a = - (1/(1+e)*(-rayon_terrestre-z_a))\n",
    "a"
   ]
  },
  {
   "cell_type": "markdown",
   "id": "7fc1a027",
   "metadata": {},
   "source": [
    "## Question 16\n",
    "Determine the radius of periapsis $r_{p}$ in km :\n",
    "$$r_{P} = a(1-e)$$"
   ]
  },
  {
   "cell_type": "code",
   "execution_count": 5,
   "id": "ca947793",
   "metadata": {},
   "outputs": [
    {
     "data": {
      "text/plain": [
       "17634.53444691495"
      ]
     },
     "execution_count": 5,
     "metadata": {},
     "output_type": "execute_result"
    }
   ],
   "source": [
    "r_p = a*(1-e)\n",
    "r_p"
   ]
  },
  {
   "cell_type": "markdown",
   "id": "cd48d7e2",
   "metadata": {},
   "source": [
    "## Question 17\n",
    "Determine the radius of apoapsis $r_{A}$ in km :\n",
    "$$r_{P} = a(1+e)$$"
   ]
  },
  {
   "cell_type": "code",
   "execution_count": 6,
   "id": "7baa00dc",
   "metadata": {},
   "outputs": [
    {
     "data": {
      "text/plain": [
       "157833.47"
      ]
     },
     "execution_count": 6,
     "metadata": {},
     "output_type": "execute_result"
    }
   ],
   "source": [
    "r_a = a*(1+e)\n",
    "r_a"
   ]
  },
  {
   "cell_type": "markdown",
   "id": "7d3e66db",
   "metadata": {},
   "source": [
    "## Question 18\n",
    "Determine the orbital period T in secondes :\n",
    "\n",
    "$$T = 2 \\pi \\sqrt{\\frac{a^3}{\\mu}}$$ "
   ]
  },
  {
   "cell_type": "code",
   "execution_count": 7,
   "id": "1b2e19b9",
   "metadata": {},
   "outputs": [
    {
     "data": {
      "text/plain": [
       "258620.61085459465"
      ]
     },
     "execution_count": 7,
     "metadata": {},
     "output_type": "execute_result"
    }
   ],
   "source": [
    "T = 2*math.pi*math.sqrt(a**3/mu)\n",
    "T"
   ]
  },
  {
   "cell_type": "markdown",
   "id": "fb388b44",
   "metadata": {},
   "source": [
    "## Question 19\n",
    "Determine the velocity at periapsis $v_{P}$ in km/s :\n",
    "\n",
    "Velocities at apoapsis and periapsis, $V_{A}$ and $V_{P}$ \n",
    "\n",
    "Nous avons,\n",
    "\n",
    "$$r_{A}V_{A} = r_{P}V_{P}$$\n",
    "et\n",
    "\n",
    "$$W = \\frac{V^2}{2} - \\frac{\\mu}{r}=-\\frac{\\mu}{2a}$$\n",
    "\n",
    "$$\\equiv \\frac{V_{P}^2}{2} - \\frac{\\mu}{r_{P}}=-\\frac{\\mu}{2a}$$\n",
    "\n",
    "$$\\equiv \\frac{V_{P}^2}{2} = \\frac{\\mu}{r_{P}}-\\frac{\\mu}{2a}$$\n",
    "\n",
    "$$\\equiv V_{P} = \\sqrt{\\frac{2\\mu}{r_{P}}-\\frac{\\mu}{a}}$$\n"
   ]
  },
  {
   "cell_type": "code",
   "execution_count": 8,
   "id": "404f16e6",
   "metadata": {},
   "outputs": [
    {
     "name": "stdout",
     "output_type": "stream",
     "text": [
      "Vitesse au periapsis: 6.38 km/s\n"
     ]
    }
   ],
   "source": [
    "V_P = (((2*mu)/r_p) - (mu/a))**0.5\n",
    "V_A = (r_p*V_P)/r_a \n",
    "\n",
    "print(\"Vitesse au periapsis:\", round(V_P,2), \"km/s\")"
   ]
  },
  {
   "cell_type": "markdown",
   "id": "c6348fdb",
   "metadata": {},
   "source": [
    "## Question 20\n",
    "Determine the velocity at apoapsis $v_{A}$ in km/s :\n",
    "\n",
    "$$V_{A}=\\frac{r_{P}V_{P}}{r_A}$$"
   ]
  },
  {
   "cell_type": "code",
   "execution_count": 9,
   "id": "d456ea77",
   "metadata": {},
   "outputs": [
    {
     "name": "stdout",
     "output_type": "stream",
     "text": [
      "Vitesse à l'apoapsis: 0.71 km/s\n"
     ]
    }
   ],
   "source": [
    "V_A = (r_p*V_P)/r_a #0.95\n",
    "\n",
    "print(\"Vitesse à l'apoapsis:\", round(V_A,2), \"km/s\")"
   ]
  },
  {
   "cell_type": "markdown",
   "id": "881f1e0b",
   "metadata": {},
   "source": [
    "## Question 21\n",
    "The passing time at periapsis is a constant of the problem, determined by assuming that the time reference is set\n",
    "when the satellite passes at the ascending node. Determine the value of the passing time at periapsis $t_{P}$ in\n",
    "seconds\n",
    "\n",
    "\n",
    "**$v < -2\\pi + v_c$ donc faut ajouter $-2\\pi+$ dans l'equation de t-tp** \n",
    "\n",
    "$$ t_p = - \\sqrt{\\frac{a^3}{\\mu}}[-2\\pi+sin^{-1}(\\frac{\\sqrt{1-e^2}sin(v)}{1+ecos(v)})-e\\frac{\\sqrt{1-e^2}sin(v)}{1+ecos(v)} ]$$\n"
   ]
  },
  {
   "cell_type": "code",
   "execution_count": 10,
   "id": "d87b985f",
   "metadata": {},
   "outputs": [
    {
     "name": "stdout",
     "output_type": "stream",
     "text": [
      "2.4964267251100987 < 2.6179938779914944 < 3.7867585820694876\n",
      "Temps à periapsis => -41583.71479867027\n",
      "79.2\n"
     ]
    }
   ],
   "source": [
    "v_c = math.acos(-e)\n",
    "tp = calculate_time(v=-w,periapsis=True)\n",
    "print('Temps à periapsis =>',tp)\n",
    "\n",
    "print(i)"
   ]
  },
  {
   "cell_type": "markdown",
   "id": "d13c7952",
   "metadata": {},
   "source": [
    "## Question 22 - 37\n",
    "What is the value of the passing time for the true anomaly -200°, cell a*, in seconds ?\n",
    "\n",
    "| v (°) | t (sec.) | la (°) | L0 (°) | LS (°) |\n",
    "|-------|----------|--------|--------|--------|\n",
    "| -200  | a*       | 9.4    | h*     | k*     |\n",
    "| -160  | b*       | 46.1   | i*     | 44.0   |\n",
    "| -120  | -56265.2 | e*     | -270.0 | -86.5  |\n",
    "| +40   | c*       | f*     | -137.1 | l*     |\n",
    "| +80   | -36175.7 | g*     | -49.2  | 56.6   |\n",
    "| +160  | 20622.4  | 9.4    | 3.4    | m*     |\n",
    "| +200  | d*       | 46.1   | j*     | n*     |"
   ]
  },
  {
   "cell_type": "markdown",
   "id": "0c643ed1",
   "metadata": {},
   "source": [
    "Several cases can occur if one compares v to $v_{c}$:\n",
    "\n",
    "if $-v_{c}≤ v ≤ +v_{c}$\n",
    "\n",
    "$$ t-t_p = \\sqrt{\\frac{a^3}{\\mu}}[sin^{-1}(\\frac{\\sqrt{1-e^2}sin(v)}{1+ecos(v)})-e\\frac{\\sqrt{1-e^2}sin(v)}{1+ecos(v)} ]$$\n",
    "\n",
    "if $+v_{c}< v < 2\\pi-v_{c}$\n",
    "\n",
    "$$ t-t_p = \\sqrt{\\frac{a^3}{\\mu}}[\\pi-sin^{-1}(\\frac{\\sqrt{1-e^2}sin(v)}{1+ecos(v)})-e\\frac{\\sqrt{1-e^2}sin(v)}{1+ecos(v)} ]$$\n",
    "\n",
    "if $v>2\\pi-v_{c}$\n",
    "\n",
    "$$ t-t_p = \\sqrt{\\frac{a^3}{\\mu}}[2\\pi+sin^{-1}(\\frac{\\sqrt{1-e^2}sin(v)}{1+ecos(v)})-e\\frac{\\sqrt{1-e^2}sin(v)}{1+ecos(v)} ]$$\n",
    "\n",
    "if $-2\\pi+v_{c} < v < -v_{c}$\n",
    "\n",
    "$$ t-t_p = \\sqrt{\\frac{a^3}{\\mu}}[-\\pi-sin^{-1}(\\frac{\\sqrt{1-e^2}sin(v)}{1+ecos(v)})-e\\frac{\\sqrt{1-e^2}sin(v)}{1+ecos(v)} ]$$\n",
    "\n",
    "if $v < -2\\pi+v_{c}$\n",
    "\n",
    "$$t-t_p = \\sqrt{\\frac{a^3}{\\mu}}[-2\\pi+sin^{-1}(\\frac{\\sqrt{1-e^2}sin(v)}{1+ecos(v)})-e\\frac{\\sqrt{1-e^2}sin(v)}{1+ecos(v)} ]$$\n"
   ]
  },
  {
   "cell_type": "code",
   "execution_count": 11,
   "id": "aec311f4",
   "metadata": {},
   "outputs": [
    {
     "name": "stdout",
     "output_type": "stream",
     "text": [
      "-3.7867585820694876 < -3.490658503988659 < -2.4964267251100987\n",
      "-3.7867585820694876 < -2.792526803190927 < -2.4964267251100987\n",
      "-2.4964267251100987 <= -2.0943951023931953 <= 2.4964267251100987\n",
      "-2.4964267251100987 <= 0.6981317007977318 <= 2.4964267251100987\n",
      "-2.4964267251100987 <= 1.3962634015954636 <= 2.4964267251100987\n",
      "2.4964267251100987 < 2.792526803190927 < 3.7867585820694876\n",
      "2.4964267251100987 < 3.490658503988659 < 3.7867585820694876\n",
      "79.2\n"
     ]
    }
   ],
   "source": [
    "v_angles = [-200, -160, -120, 40, 80, 160, 200]\n",
    "\n",
    "t = []\n",
    "\n",
    "for j in v_angles:\n",
    "    t.append( calculate_time(v=j) + tp )\n",
    "    if j == 0: #à cette angle t = tp\n",
    "        t.append(calculate_time(v=-w))\n",
    "        \n",
    "print(i)"
   ]
  },
  {
   "cell_type": "markdown",
   "id": "26ad7f2d",
   "metadata": {},
   "source": [
    "$$l_{a} = sin^{-1}(sin(w+v)sini)$$"
   ]
  },
  {
   "cell_type": "code",
   "execution_count": 12,
   "id": "0da2b814",
   "metadata": {},
   "outputs": [
    {
     "name": "stdout",
     "output_type": "stream",
     "text": [
      "-150\n",
      "79.2\n",
      "la: 9.821100738412119\n",
      "lb: 48.80528729037\n",
      "lc: 79.2\n",
      "ld: -67.37583886266697\n",
      "le: -67.37583886266697\n",
      "lf: 9.821100738412106\n",
      "lg: 48.805287290369996\n"
     ]
    }
   ],
   "source": [
    "print(w)\n",
    "print(i)\n",
    "\n",
    "w = -150 \n",
    "\n",
    "def calculate_la(v):\n",
    "    v_rad = math.radians(v)\n",
    "    w_rad = math.radians(w)\n",
    "    i_rad = math.radians(i)\n",
    "\n",
    "    la = math.degrees(math.asin(math.sin(w_rad + v_rad) * math.sin(i_rad)))\n",
    "    return la\n",
    "\n",
    "la = []\n",
    "\n",
    "\n",
    "for index, v in enumerate(v_angles):\n",
    "    result_la = calculate_la(v)\n",
    "    print(f\"l{chr(97 + index)}:\", result_la)\n",
    "    la.append(result_la)"
   ]
  },
  {
   "cell_type": "markdown",
   "id": "97df4853",
   "metadata": {},
   "source": [
    "$$L_{0} = sin^{-1}(\\frac{tan(la)}{tan(i)})$$ \n",
    "\n",
    "if $-\\omega - 90 ≤ v ≤ -\\omega + 90$\n",
    "\n",
    "$$L_{0} = sin^{-1}(\\frac{tan(la)}{tan(i)})$$ \n",
    "\n",
    "if $v < -\\omega - 90$\n",
    "\n",
    "$$L_{0} = -180- sin^{-1}(\\frac{tan(la)}{tan(i)})$$ \n",
    "\n",
    "if $v>-\\omega + 90$\n",
    "\n",
    "$$L_{0} = +180- sin^{-1}(\\frac{tan(la)}{tan(i)})$$ "
   ]
  },
  {
   "cell_type": "code",
   "execution_count": 13,
   "id": "1ec4fd6c",
   "metadata": {},
   "outputs": [
    {
     "name": "stdout",
     "output_type": "stream",
     "text": [
      "L0_1: -181.89238599215986\n",
      "L0_2: -192.5883146546955\n",
      "L0_3: -270.0\n",
      "L0_4: -152.7594158712855\n",
      "L0_5: -27.240584128714477\n",
      "L0_6: 1.8923859921598676\n",
      "L0_7: 12.588314654695498\n"
     ]
    }
   ],
   "source": [
    "def calculate_L0(la, i, w, v):\n",
    "    la_rad = math.radians(la)\n",
    "    i_rad = math.radians(i)\n",
    "    w_rad = math.radians(w)\n",
    "    v_rad = math.radians(v)\n",
    "    \n",
    "    if -w_rad - math.radians(90) <= v_rad <= -w_rad + math.radians(90):\n",
    "        L0 = math.degrees(math.asin(math.tan(la_rad) / math.tan(i_rad)))\n",
    "    elif v_rad < -w_rad - math.radians(90):\n",
    "        L0 = -180 - math.degrees(math.asin(math.tan(la_rad) / math.tan(i_rad)))\n",
    "    else:\n",
    "        L0 = 180 - math.degrees(math.asin(math.tan(la_rad) / math.tan(i_rad)))\n",
    "    \n",
    "    return L0\n",
    "\n",
    "L0 = []\n",
    "\n",
    "for index, v in enumerate(v_angles):\n",
    "    result_la = calculate_la(v)\n",
    "    result_L0 = calculate_L0(result_la, i, w, v)\n",
    "    print(f\"L0_{chr(48 + index+1)}:\", result_L0)\n",
    "    L0.append(result_L0)"
   ]
  },
  {
   "cell_type": "markdown",
   "id": "98a6fe95",
   "metadata": {},
   "source": [
    "Whilethe Earthis«turning»:\n",
    "\n",
    "–The latitude calculatedin the «fixed» case reamains!!!\n",
    "\n",
    "–The longitude $L_{s}$ corrected by the Earth rotation depending on $L_{0}$\n",
    "\n",
    "$$L_{S} = L_{\\omega}(t_{0}) + L_{0} - \\dot{\\alpha}(t-t_{0})$$\n",
    "\n",
    "$$L_{S} = L_{\\omega}(t_{0}) + L_{0} - \\dot{\\alpha}t$$\n",
    "\n",
    "We consider that the satellite goes through ${\\omega}$ to $t_{0}$ ; $(t-t_{0})$ and thatisits passing time to reach S. \n",
    "\n",
    "$L_{\\omega}(t_{0})$ is given\n",
    "\n",
    "Or, $\\dot{\\alpha} = \\frac{360}{86164} °/s$"
   ]
  },
  {
   "cell_type": "markdown",
   "id": "f37dbff8",
   "metadata": {},
   "source": [
    "<div class=\"alert alert-danger\">\n",
    "    <strong>⬇️ Visulisation des donnés</strong>\n",
    "</div>"
   ]
  },
  {
   "cell_type": "code",
   "execution_count": 14,
   "id": "bf7cf207",
   "metadata": {},
   "outputs": [
    {
     "data": {
      "text/html": [
       "<div>\n",
       "<style scoped>\n",
       "    .dataframe tbody tr th:only-of-type {\n",
       "        vertical-align: middle;\n",
       "    }\n",
       "\n",
       "    .dataframe tbody tr th {\n",
       "        vertical-align: top;\n",
       "    }\n",
       "\n",
       "    .dataframe thead th {\n",
       "        text-align: right;\n",
       "    }\n",
       "</style>\n",
       "<table border=\"1\" class=\"dataframe\">\n",
       "  <thead>\n",
       "    <tr style=\"text-align: right;\">\n",
       "      <th></th>\n",
       "      <th>v (°)</th>\n",
       "      <th>t (sec.)</th>\n",
       "      <th>la (°)</th>\n",
       "      <th>L0 (°)</th>\n",
       "    </tr>\n",
       "  </thead>\n",
       "  <tbody>\n",
       "    <tr>\n",
       "      <th>0</th>\n",
       "      <td>-200</td>\n",
       "      <td>-237998.264842</td>\n",
       "      <td>9.821101</td>\n",
       "      <td>-181.892386</td>\n",
       "    </tr>\n",
       "    <tr>\n",
       "      <th>1</th>\n",
       "      <td>-160</td>\n",
       "      <td>-103789.775610</td>\n",
       "      <td>48.805287</td>\n",
       "      <td>-192.588315</td>\n",
       "    </tr>\n",
       "    <tr>\n",
       "      <th>2</th>\n",
       "      <td>-120</td>\n",
       "      <td>-56265.244565</td>\n",
       "      <td>79.200000</td>\n",
       "      <td>-270.000000</td>\n",
       "    </tr>\n",
       "    <tr>\n",
       "      <th>3</th>\n",
       "      <td>40</td>\n",
       "      <td>-39502.914559</td>\n",
       "      <td>-67.375839</td>\n",
       "      <td>-152.759416</td>\n",
       "    </tr>\n",
       "    <tr>\n",
       "      <th>4</th>\n",
       "      <td>80</td>\n",
       "      <td>-36175.741670</td>\n",
       "      <td>-67.375839</td>\n",
       "      <td>-27.240584</td>\n",
       "    </tr>\n",
       "    <tr>\n",
       "      <th>5</th>\n",
       "      <td>160</td>\n",
       "      <td>20622.346012</td>\n",
       "      <td>9.821101</td>\n",
       "      <td>1.892386</td>\n",
       "    </tr>\n",
       "    <tr>\n",
       "      <th>6</th>\n",
       "      <td>200</td>\n",
       "      <td>154830.835245</td>\n",
       "      <td>48.805287</td>\n",
       "      <td>12.588315</td>\n",
       "    </tr>\n",
       "  </tbody>\n",
       "</table>\n",
       "</div>"
      ],
      "text/plain": [
       "   v (°)       t (sec.)     la (°)      L0 (°)\n",
       "0   -200 -237998.264842   9.821101 -181.892386\n",
       "1   -160 -103789.775610  48.805287 -192.588315\n",
       "2   -120  -56265.244565  79.200000 -270.000000\n",
       "3     40  -39502.914559 -67.375839 -152.759416\n",
       "4     80  -36175.741670 -67.375839  -27.240584\n",
       "5    160   20622.346012   9.821101    1.892386\n",
       "6    200  154830.835245  48.805287   12.588315"
      ]
     },
     "execution_count": 14,
     "metadata": {},
     "output_type": "execute_result"
    }
   ],
   "source": [
    "import pandas as pd\n",
    "\n",
    "data = {\n",
    "    'v (°)': v_angles,\n",
    "    't (sec.)': t,\n",
    "    'la (°)': la,\n",
    "    'L0 (°)': L0,\n",
    "}\n",
    "\n",
    "df = pd.DataFrame(data)\n",
    "\n",
    "df"
   ]
  },
  {
   "cell_type": "code",
   "execution_count": null,
   "id": "36d327d0",
   "metadata": {},
   "outputs": [],
   "source": []
  }
 ],
 "metadata": {
  "kernelspec": {
   "display_name": "Python 3 (ipykernel)",
   "language": "python",
   "name": "python3"
  },
  "language_info": {
   "codemirror_mode": {
    "name": "ipython",
    "version": 3
   },
   "file_extension": ".py",
   "mimetype": "text/x-python",
   "name": "python",
   "nbconvert_exporter": "python",
   "pygments_lexer": "ipython3",
   "version": "3.10.5"
  }
 },
 "nbformat": 4,
 "nbformat_minor": 5
}
